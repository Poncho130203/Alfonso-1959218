{
  "nbformat": 4,
  "nbformat_minor": 0,
  "metadata": {
    "colab": {
      "provenance": []
    },
    "kernelspec": {
      "name": "python3",
      "display_name": "Python 3"
    },
    "language_info": {
      "name": "python"
    }
  },
  "cells": [
    {
      "cell_type": "code",
      "source": [
        "#A2. Ejercicios en Python, Alfonso Antonio García Granados, Mat: 1959218, Hora: N1"
      ],
      "metadata": {
        "id": "6tC-LJUY5NyX"
      },
      "execution_count": 1,
      "outputs": []
    },
    {
      "cell_type": "code",
      "source": [
        "#Escribe un programa que solicite al usuario un número y que indique si es par o impar\n",
        "\n",
        "n = int(input(\"Ingresa un numero \"))\n",
        "if n % 2 == 0:\n",
        "  print(\"El numero \",n,\"es par\")\n",
        "else:\n",
        "    print(\"El numero \",n,\" es impar\")"
      ],
      "metadata": {
        "id": "jdi7i8Zs5VPO",
        "colab": {
          "base_uri": "https://localhost:8080/"
        },
        "outputId": "70557376-4ecf-4a33-cccd-f2e67106ea07"
      },
      "execution_count": 2,
      "outputs": [
        {
          "output_type": "stream",
          "name": "stdout",
          "text": [
            "Ingresa un numero 3\n",
            "El numero  3  es impar\n"
          ]
        }
      ]
    },
    {
      "cell_type": "code",
      "source": [
        "#Escribe un programa que tome una lista de números ingresados por el usuario y muestre la lista en orden inverso.\n",
        "\n",
        "cadena1 = []\n",
        "for i in range (0,5):\n",
        "  n = input(\"Ingresa un numero: \")\n",
        "  cadena1.append(n)\n",
        "\n",
        "cadena2 = cadena1[:]\n",
        "cadena2.reverse()\n",
        "\n",
        "print(\"Cadena normal \",cadena1)\n",
        "print(\"Cadena invertida\",cadena2)"
      ],
      "metadata": {
        "id": "-NKCn-L4-qX_",
        "colab": {
          "base_uri": "https://localhost:8080/"
        },
        "outputId": "9318952a-2eef-4aa4-abfa-dcfcd935256f"
      },
      "execution_count": 3,
      "outputs": [
        {
          "output_type": "stream",
          "name": "stdout",
          "text": [
            "Ingresa un numero: 1\n",
            "Ingresa un numero: 2\n",
            "Ingresa un numero: 3\n",
            "Ingresa un numero: 4\n",
            "Ingresa un numero: 5\n",
            "Cadena normal  ['1', '2', '3', '4', '5']\n",
            "Cadena invertida ['5', '4', '3', '2', '1']\n"
          ]
        }
      ]
    },
    {
      "cell_type": "code",
      "source": [
        "#Crea un programa que genere un número aleatorio entre 1 y 100, y luego le pida al usuario que adivine el número\n",
        "\n",
        "import random\n",
        "\n",
        "numeroAleatorio = random.randint(1,100)\n",
        "\n",
        "def intro():\n",
        "    print(\"*\"*40)\n",
        "    print(\" \"*10,\"Adivina el numero\",\" \"*10)\n",
        "    print(\"*\"*40)\n",
        "\n",
        "def juega():\n",
        "    intentos = 0\n",
        "    while True:\n",
        "         numUsuario = int(input(\"Inserta un numero entre el 1 y el 100: \"))\n",
        "         if numUsuario > numeroAleatorio:\n",
        "              intentos += 1\n",
        "              print(\"El numero a acertar es mas pequeño, intentelo de nuevo.\")\n",
        "         elif numUsuario < numeroAleatorio:\n",
        "            intentos +=1\n",
        "            print(\"El numero a acertar es mas grande, intentelo de nuevo.\")\n",
        "         else:\n",
        "            intentos +=1\n",
        "            print(f\"Felicidades acertaste el numero, era el {numeroAleatorio}, en el intento numero {intentos}\")\n",
        "            break\n",
        "\n",
        "intro()\n",
        "juega()"
      ],
      "metadata": {
        "id": "ngk3Pu9AH8Oq",
        "colab": {
          "base_uri": "https://localhost:8080/"
        },
        "outputId": "da0ff761-c159-49f2-97f4-56f0a1963f75"
      },
      "execution_count": 4,
      "outputs": [
        {
          "output_type": "stream",
          "name": "stdout",
          "text": [
            "****************************************\n",
            "           Adivina el numero           \n",
            "****************************************\n",
            "Inserta un numero entre el 1 y el 100: 50\n",
            "El numero a acertar es mas pequeño, intentelo de nuevo.\n",
            "Inserta un numero entre el 1 y el 100: 40\n",
            "El numero a acertar es mas pequeño, intentelo de nuevo.\n",
            "Inserta un numero entre el 1 y el 100: 30\n",
            "El numero a acertar es mas pequeño, intentelo de nuevo.\n",
            "Inserta un numero entre el 1 y el 100: 20\n",
            "Felicidades acertaste el numero, era el 20, en el intento numero 4\n"
          ]
        }
      ]
    },
    {
      "cell_type": "code",
      "source": [
        "comprobar = True\n",
        "\n",
        "while comprobar == True:\n",
        "  n = int(input(\"Ingrese un numero entero positivo: \"))\n",
        "  if n > 0:\n",
        "    comprobar = False\n",
        "    i = 2\n",
        "    while i < n:\n",
        "      creciente = 2\n",
        "      esPrimo = True\n",
        "      while esPrimo and creciente < i:\n",
        "        if i % creciente == 0:\n",
        "          esPrimo = False\n",
        "        else:\n",
        "          creciente += 1\n",
        "      if esPrimo:\n",
        "        print(i,\"es primo.\")\n",
        "      i += 1\n"
      ],
      "metadata": {
        "id": "TUtDtUd71gn5",
        "colab": {
          "base_uri": "https://localhost:8080/"
        },
        "outputId": "e760adc7-a49f-4658-a9c1-1ffc8355a4ab"
      },
      "execution_count": 5,
      "outputs": [
        {
          "output_type": "stream",
          "name": "stdout",
          "text": [
            "Ingrese un numero entero positivo: 10\n",
            "2 es primo.\n",
            "3 es primo.\n",
            "5 es primo.\n",
            "7 es primo.\n"
          ]
        }
      ]
    }
  ]
}