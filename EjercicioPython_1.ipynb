{
  "nbformat": 4,
  "nbformat_minor": 0,
  "metadata": {
    "colab": {
      "provenance": [],
      "authorship_tag": "ABX9TyNxMvYr82ECbkmOar+xAWa8",
      "include_colab_link": true
    },
    "kernelspec": {
      "name": "python3",
      "display_name": "Python 3"
    },
    "language_info": {
      "name": "python"
    }
  },
  "cells": [
    {
      "cell_type": "markdown",
      "metadata": {
        "id": "view-in-github",
        "colab_type": "text"
      },
      "source": [
        "<a href=\"https://colab.research.google.com/github/Poncho130203/Alfonso-1959218/blob/main/EjercicioPython_1.ipynb\" target=\"_parent\"><img src=\"https://colab.research.google.com/assets/colab-badge.svg\" alt=\"Open In Colab\"/></a>"
      ]
    },
    {
      "cell_type": "code",
      "source": [
        "#A2. Ejercicios en Python, Alfonso Antonio García Granados, Mat: 1959218, Hora: N1"
      ],
      "metadata": {
        "id": "6tC-LJUY5NyX"
      },
      "execution_count": 99,
      "outputs": []
    },
    {
      "cell_type": "code",
      "source": [
        "#Escribe un programa que solicite al usuario un número y que indique si es par o impar\n",
        "\n",
        "n = int(input(\"Ingresa un numero \"))\n",
        "if n % 2 == 0:\n",
        "  print(\"El numero \",n,\"es par\")\n",
        "else:\n",
        "    print(\"El numero \",n,\" es impar\")"
      ],
      "metadata": {
        "id": "jdi7i8Zs5VPO"
      },
      "execution_count": null,
      "outputs": []
    },
    {
      "cell_type": "code",
      "source": [
        "#Escribe un programa que tome una lista de números ingresados por el usuario y muestre la lista en orden inverso.\n",
        "\n",
        "cadena1 = []\n",
        "for i in range (0,5):\n",
        "  n = input(\"Ingresa un numero: \")\n",
        "  cadena1.append(n)\n",
        "\n",
        "cadena2 = cadena1[:]\n",
        "cadena2.reverse()\n",
        "\n",
        "print(\"Cadena normal \",cadena1)\n",
        "print(\"Cadena invertida\",cadena2)"
      ],
      "metadata": {
        "id": "-NKCn-L4-qX_"
      },
      "execution_count": null,
      "outputs": []
    },
    {
      "cell_type": "code",
      "source": [
        "#Crea un programa que genere un número aleatorio entre 1 y 100, y luego le pida al usuario que adivine el número\n",
        "\n",
        "import random\n",
        "\n",
        "numeroAleatorio = random.randint(1,100)\n",
        "\n",
        "def intro():\n",
        "    print(\"*\"*40)\n",
        "    print(\" \"*10,\"Adivina el numero\",\" \"*10)\n",
        "    print(\"*\"*40)\n",
        "\n",
        "def juega():\n",
        "    intentos = 0\n",
        "    while True:\n",
        "         numUsuario = int(input(\"Inserta un numero entre el 1 y el 100: \"))\n",
        "         if numUsuario > numeroAleatorio:\n",
        "              intentos += 1\n",
        "              print(\"El numero a acertar es mas pequeño, intentelo de nuevo.\")\n",
        "         elif numUsuario < numeroAleatorio:\n",
        "            intentos +=1\n",
        "            print(\"El numero a acertar es mas grande, intentelo de nuevo.\")\n",
        "         else:\n",
        "            intentos +=1\n",
        "            print(f\"Felicidades acertaste el numero, era el {numeroAleatorio}, en el intento numero{intentos}\")\n",
        "            break\n",
        "\n",
        "intro()\n",
        "juega()"
      ],
      "metadata": {
        "id": "ngk3Pu9AH8Oq"
      },
      "execution_count": null,
      "outputs": []
    },
    {
      "cell_type": "code",
      "source": [
        "while comprobar == True:\n",
        "  n = int(input(\"Ingrese un numero entero positivo: \"))\n",
        "  if n > 0:\n",
        "    for i in range(2,n):\n",
        "      creciente = 2\n",
        "      esPrimo = True\n",
        "      while esPrimo and creciente < i:\n",
        "        if i % creciente == 0:\n",
        "          esPrimo = False\n",
        "        else:\n",
        "          creciente += 1\n",
        "      if esPrimo:\n",
        "        print(i,\"es primo.\")\n",
        "else:\n",
        "  print(\"El numero ingresado no es correcto. Intentalo de nuevo.\")"
      ],
      "metadata": {
        "id": "r2gNjZfVzzuC"
      },
      "execution_count": null,
      "outputs": []
    }
  ]
}